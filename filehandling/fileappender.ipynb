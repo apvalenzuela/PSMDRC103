{
 "cells": [
  {
   "cell_type": "code",
   "execution_count": 20,
   "id": "1e60c2dd-471a-48d8-8a12-be743484470b",
   "metadata": {},
   "outputs": [],
   "source": [
    "file = open(\"newfile2.txt\", 'a')\n",
    "file.write(\"and also by the programmer, of course.\")\n",
    "file.close()"
   ]
  },
  {
   "cell_type": "code",
   "execution_count": null,
   "id": "91d94c5c-3dcf-46fb-81e3-69016d6db955",
   "metadata": {},
   "outputs": [],
   "source": []
  }
 ],
 "metadata": {
  "kernelspec": {
   "display_name": "Python 3 (ipykernel)",
   "language": "python",
   "name": "python3"
  },
  "language_info": {
   "codemirror_mode": {
    "name": "ipython",
    "version": 3
   },
   "file_extension": ".py",
   "mimetype": "text/x-python",
   "name": "python",
   "nbconvert_exporter": "python",
   "pygments_lexer": "ipython3",
   "version": "3.12.4"
  }
 },
 "nbformat": 4,
 "nbformat_minor": 5
}
