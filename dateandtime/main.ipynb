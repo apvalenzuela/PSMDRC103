{
 "cells": [
  {
   "cell_type": "code",
   "execution_count": 23,
   "id": "12657147-64ac-4750-97fb-3ee5860c95ed",
   "metadata": {},
   "outputs": [
    {
     "name": "stdout",
     "output_type": "stream",
     "text": [
      "The current time is  06:39 PM\n"
     ]
    }
   ],
   "source": [
    "import dateandtime\n",
    "\n",
    "print(\"The current time is \",dateandtime.current_time())"
   ]
  },
  {
   "cell_type": "code",
   "execution_count": 27,
   "id": "0a816d47-fe4d-4310-a9ad-8c4faec52677",
   "metadata": {},
   "outputs": [
    {
     "name": "stdout",
     "output_type": "stream",
     "text": [
      "The current time is 06:40 PM\n",
      "The current time is Sep 15 2024\n"
     ]
    }
   ],
   "source": [
    "from dateandtime import current_time, current_date\n",
    "\n",
    "print(\"The current time is\", current_time())\n",
    "print(\"The current time is\", current_date())"
   ]
  },
  {
   "cell_type": "code",
   "execution_count": null,
   "id": "29c7cfb7-a37b-4f8b-ae19-ef564d5a1110",
   "metadata": {},
   "outputs": [],
   "source": []
  }
 ],
 "metadata": {
  "kernelspec": {
   "display_name": "Python 3 (ipykernel)",
   "language": "python",
   "name": "python3"
  },
  "language_info": {
   "codemirror_mode": {
    "name": "ipython",
    "version": 3
   },
   "file_extension": ".py",
   "mimetype": "text/x-python",
   "name": "python",
   "nbconvert_exporter": "python",
   "pygments_lexer": "ipython3",
   "version": "3.12.4"
  }
 },
 "nbformat": 4,
 "nbformat_minor": 5
}
