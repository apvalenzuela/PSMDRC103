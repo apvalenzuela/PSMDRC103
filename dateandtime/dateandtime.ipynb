{
 "cells": [
  {
   "cell_type": "code",
   "execution_count": 25,
   "id": "e5e46a16-1f66-4526-a591-325870e5de33",
   "metadata": {},
   "outputs": [],
   "source": [
    "import time\n",
    "\n",
    "def pause():\n",
    "    for i in range (10, 0 , -1):\n",
    "        print(f\"the program will end in {i}...\")\n",
    "        time.sleep(1)"
   ]
  },
  {
   "cell_type": "code",
   "execution_count": 12,
   "id": "b8ce8dd9-27f9-48de-ae2b-6039beca6327",
   "metadata": {},
   "outputs": [
    {
     "name": "stdout",
     "output_type": "stream",
     "text": [
      "the program will end in 10...\n",
      "the program will end in 9...\n",
      "the program will end in 8...\n",
      "the program will end in 7...\n",
      "the program will end in 6...\n",
      "the program will end in 5...\n",
      "the program will end in 4...\n",
      "the program will end in 3...\n",
      "the program will end in 2...\n",
      "the program will end in 1...\n"
     ]
    }
   ],
   "source": [
    "#pause()"
   ]
  },
  {
   "cell_type": "code",
   "execution_count": 27,
   "id": "a3c02ee6-0a3b-48c7-8082-8e9f86630516",
   "metadata": {},
   "outputs": [],
   "source": [
    "def current_time():\n",
    "    t = time.strftime(\"%I:%M %p\")\n",
    "    return t"
   ]
  },
  {
   "cell_type": "code",
   "execution_count": 18,
   "id": "72e46bdd-d5b9-43f5-b286-1a0ac6f96acb",
   "metadata": {},
   "outputs": [
    {
     "name": "stdout",
     "output_type": "stream",
     "text": [
      "06:38 PM\n"
     ]
    }
   ],
   "source": [
    "#print (current_time())"
   ]
  },
  {
   "cell_type": "code",
   "execution_count": 29,
   "id": "e12a392c-2f4e-4a0d-b11b-a4e0928c61dc",
   "metadata": {},
   "outputs": [],
   "source": [
    "def current_date():\n",
    "    d = time.strftime(\"%b %d %Y\")\n",
    "    return d"
   ]
  },
  {
   "cell_type": "code",
   "execution_count": 22,
   "id": "884f9fb7-5cef-4ca8-aa76-5a6c914b8081",
   "metadata": {},
   "outputs": [
    {
     "name": "stdout",
     "output_type": "stream",
     "text": [
      "Sep 15 2024\n"
     ]
    }
   ],
   "source": [
    "#print (current_date())"
   ]
  },
  {
   "cell_type": "code",
   "execution_count": null,
   "id": "ae8b620f-1a99-4526-82c1-42213a94069d",
   "metadata": {},
   "outputs": [],
   "source": []
  }
 ],
 "metadata": {
  "kernelspec": {
   "display_name": "Python 3 (ipykernel)",
   "language": "python",
   "name": "python3"
  },
  "language_info": {
   "codemirror_mode": {
    "name": "ipython",
    "version": 3
   },
   "file_extension": ".py",
   "mimetype": "text/x-python",
   "name": "python",
   "nbconvert_exporter": "python",
   "pygments_lexer": "ipython3",
   "version": "3.12.4"
  }
 },
 "nbformat": 4,
 "nbformat_minor": 5
}
