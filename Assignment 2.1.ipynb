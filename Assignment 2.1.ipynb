{
 "cells": [
  {
   "cell_type": "markdown",
   "id": "ebfff5a2-ff7c-4bc7-94b6-2f58dbfffd63",
   "metadata": {},
   "source": [
    "### Assignment 2.1 Supplementary Activities to Creating Modules and Packages"
   ]
  },
  {
   "cell_type": "markdown",
   "id": "0740d0fb-5062-4ff6-87e7-ceeb403c6a32",
   "metadata": {},
   "source": [
    "#### By: Arlene Valenzuela"
   ]
  },
  {
   "cell_type": "markdown",
   "id": "0b90a24b-be3b-4c03-8bb4-8ab001a48a85",
   "metadata": {},
   "source": [
    "##### 1. Create a function that would accept two inputs: a sentence(string), and a list containing bad words that the user would like to censor but not remove. The function should return the newly filtered sentence wherein the bad words are replaced with asterisks equal to the length of the censored word."
   ]
  },
  {
   "cell_type": "code",
   "execution_count": 4,
   "id": "473fb1d6-a4f0-42e7-ade5-c9058ad30857",
   "metadata": {},
   "outputs": [],
   "source": [
    "def censor_words(sentence, bad_words):\n",
    "  for word in bad_words:\n",
    "    sentence = sentence.replace(word, '*' * len(word))\n",
    "  return sentence"
   ]
  },
  {
   "cell_type": "markdown",
   "id": "9567d25a-4a06-447d-8ff4-46eef293c436",
   "metadata": {},
   "source": [
    "##### 2. Create a quadratic equation solver module that would write the inputs of the user and the corresponding output into text files."
   ]
  },
  {
   "cell_type": "code",
   "execution_count": 45,
   "id": "74f39c55-37be-40d5-acc1-a22c9370e85e",
   "metadata": {},
   "outputs": [
    {
     "name": "stdin",
     "output_type": "stream",
     "text": [
      "Enter the coefficient a:  1\n",
      "Enter the coefficient b:  2\n",
      "Enter the coefficient c:  1\n"
     ]
    },
    {
     "data": {
      "text/plain": [
       "(-1.0, -1.0)"
      ]
     },
     "execution_count": 45,
     "metadata": {},
     "output_type": "execute_result"
    }
   ],
   "source": [
    "import math\n",
    "\n",
    "def solve_quadratic_equation(a, b, c):\n",
    "  # Calculate the discriminant to identity if the equation has real roots\n",
    "  d = (b**2) - 4*(a*c)\n",
    "\n",
    "  if d >= 0:\n",
    "    # Proceed to calculate the roots\n",
    "    x1 = (-b - math.sqrt(d)) / (2*a)\n",
    "    x2 = (-b + math.sqrt(d)) / (2*a)\n",
    "\n",
    "    # Write inputs and outputs to quadratic_equation_results.txt\n",
    "    with open('quadratic_equation_results.txt', 'a') as f:\n",
    "      f.write(f'Inputs: a={a}, b={b}, c={c}\\n')\n",
    "      f.write(f'Outputs: x1={x1}, x2={x2}\\n')\n",
    "\n",
    "    return x1, x2\n",
    "  else:\n",
    "    # Write inputs and message to quadratic_equation_results.txt\n",
    "    with open('quadratic_equation_results.txt', 'a') as f:\n",
    "      f.write(f'Inputs: a={a}, b={b}, c={c}\\n')\n",
    "      f.write('The equation has no real roots\\n')\n",
    "  \n",
    "    return None\n",
    "  print('The equation has no real roots')\n",
    "# Get inputs from the user\n",
    "a = float(input(\"Enter the coefficient a: \"))\n",
    "b = float(input(\"Enter the coefficient b: \"))\n",
    "c = float(input(\"Enter the coefficient c: \"))\n",
    "\n",
    "# Solve the quadratic equation\n",
    "solve_quadratic_equation(a, b, c)"
   ]
  },
  {
   "cell_type": "markdown",
   "id": "d4e75c00-ea8e-4648-803d-5a3b3e1c93df",
   "metadata": {
    "jp-MarkdownHeadingCollapsed": true
   },
   "source": [
    "##### Why do built-in functions exist?"
   ]
  },
  {
   "cell_type": "markdown",
   "id": "79c4ffd8-3e9d-48bd-a63c-c42ba5c225ec",
   "metadata": {},
   "source": [
    "Built-in functions exist to provide developers with a set of pre-written, readily available functionalities that are commonly used in programming."
   ]
  },
  {
   "cell_type": "markdown",
   "id": "516946ae-3483-4a4b-8fe1-7ab0c2c504f8",
   "metadata": {},
   "source": [
    "##### What are the advantages/disadvantages of placing code inside functions vs. sequential codes?"
   ]
  },
  {
   "cell_type": "markdown",
   "id": "5b5b4fce-8661-4bb8-ae50-02dd0e73cbb9",
   "metadata": {},
   "source": [
    "Placing code within functions provides several advantages over sequential code. One advantage is that functions can be called multiple times from different sections of your code, minimizing repetition. Additionally, functions can be tested separately, making it easier to detect and correct issues. However, sequential code can be slightly faster for simple tasks as it avoids function call overhead."
   ]
  },
  {
   "cell_type": "markdown",
   "id": "89459b53-30f7-4825-906d-489c7a370907",
   "metadata": {},
   "source": [
    "##### What is the different between a function and a module?"
   ]
  },
  {
   "cell_type": "markdown",
   "id": "e6491af2-53c3-41cb-b3d7-ed89f2621084",
   "metadata": {},
   "source": [
    "A function is a block of code that is designed to do a certain task. It accepts arguments as inputs and can output results. While a module is a collection of variables, classes, and functions that are all contained in a single file. Modules allow you to reuse code across multiple projects and organize it into logical sections.\r\n",
    "s."
   ]
  },
  {
   "cell_type": "markdown",
   "id": "72b5a3f6-dbf0-4f61-add0-63651f6fd48b",
   "metadata": {},
   "source": [
    "##### Discuss the difference between a module and a package."
   ]
  },
  {
   "cell_type": "markdown",
   "id": "721a7ddc-3499-4ea0-8b93-0b5c16f5e7f3",
   "metadata": {},
   "source": [
    "A module is a single file containing Python code. While package is a collection of modules organized in a directory hierarchy. Packages can contain sub-packages and modules, providing a way to structure large and complex projects.s."
   ]
  },
  {
   "cell_type": "markdown",
   "id": "0b4a5a55-4272-4409-9ee1-7ceaf1f9969b",
   "metadata": {},
   "source": [
    "### END"
   ]
  },
  {
   "cell_type": "code",
   "execution_count": null,
   "id": "73d2ac75-8964-453f-b9f3-f6340f8f849c",
   "metadata": {},
   "outputs": [],
   "source": []
  }
 ],
 "metadata": {
  "kernelspec": {
   "display_name": "Python 3 (ipykernel)",
   "language": "python",
   "name": "python3"
  },
  "language_info": {
   "codemirror_mode": {
    "name": "ipython",
    "version": 3
   },
   "file_extension": ".py",
   "mimetype": "text/x-python",
   "name": "python",
   "nbconvert_exporter": "python",
   "pygments_lexer": "ipython3",
   "version": "3.12.4"
  }
 },
 "nbformat": 4,
 "nbformat_minor": 5
}
