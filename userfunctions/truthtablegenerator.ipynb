{
 "cells": [
  {
   "cell_type": "code",
   "execution_count": 7,
   "id": "8d2cc285-e603-49be-8bc9-8cb270771119",
   "metadata": {},
   "outputs": [],
   "source": [
    "def generate_truthtable (number_of_variables):\n",
    "    total_combinations = 2 ** number_of_variables\n",
    "    combinations_list = [] \n",
    "    \n",
    "    for i in range(total_combinations): \n",
    "        bin_equivalent = bin(i) [2:]\n",
    "        while len(bin_equivalent) < number_of_variables: \n",
    "            bin_equivalent = \"0\"+bin_equivalent\n",
    "        combinations_list.append(tuple(int(val) for val in bin_equivalent)) \n",
    "    return combinations_list "
   ]
  },
  {
   "cell_type": "code",
   "execution_count": 11,
   "id": "26f4246d-07d6-4ec4-97dd-9403202a0f78",
   "metadata": {},
   "outputs": [
    {
     "name": "stdout",
     "output_type": "stream",
     "text": [
      "[(0, 0, 0), (0, 0, 1), (0, 1, 0), (0, 1, 1), (1, 0, 0), (1, 0, 1), (1, 1, 0), (1, 1, 1)]\n"
     ]
    }
   ],
   "source": [
    "print(generate_truthtable(3))"
   ]
  },
  {
   "cell_type": "code",
   "execution_count": 64,
   "id": "5724d1eb-d717-441d-b677-621e59a7024f",
   "metadata": {},
   "outputs": [
    {
     "name": "stdout",
     "output_type": "stream",
     "text": [
      "You need to enter an integer\n"
     ]
    }
   ],
   "source": [
    "print(generate_truthtable())"
   ]
  },
  {
   "cell_type": "code",
   "execution_count": 25,
   "id": "e8e9a5fc-4858-42ed-aaba-86b51294f9f7",
   "metadata": {},
   "outputs": [],
   "source": [
    "#Modification\n",
    "def generate_truthtable (number_of_variables=0):\n",
    "    if number_of_variables == 0:\n",
    "        return \"You nees to enter an integer\"\n",
    "    else:\n",
    "        total_combinations = 2 ** number_of_variables\n",
    "        combinations_list = [] \n",
    "    \n",
    "        for i in range(total_combinations): \n",
    "            bin_equivalent = bin(i) [2:]\n",
    "            while len(bin_equivalent) < number_of_variables: \n",
    "                bin_equivalent = \"0\"+bin_equivalent\n",
    "            combinations_list.append(tuple(int(val) for val in bin_equivalent)) \n",
    "    return combinations_list "
   ]
  },
  {
   "cell_type": "code",
   "execution_count": 27,
   "id": "86a59c2c-52f5-43d8-8ed4-25fb527b41b5",
   "metadata": {},
   "outputs": [
    {
     "name": "stdout",
     "output_type": "stream",
     "text": [
      "You need to enter an integer\n"
     ]
    }
   ],
   "source": [
    "print(generate_truthtable())"
   ]
  },
  {
   "cell_type": "code",
   "execution_count": 62,
   "id": "46a1bd77-064f-4d3c-9650-6e41418de9ed",
   "metadata": {},
   "outputs": [
    {
     "name": "stdin",
     "output_type": "stream",
     "text": [
      "Enter the propositional Logic expression:  A or B\n"
     ]
    },
    {
     "name": "stdout",
     "output_type": "stream",
     "text": [
      "A B f\n",
      "0 0 0\n",
      "0 1 1\n",
      "1 0 1\n",
      "1 1 1\n"
     ]
    }
   ],
   "source": [
    "def evaluate_propositional_logic(combinations_list):\n",
    "    expression = input(\"Enter the propositional Logic expression: \")\n",
    "    variables = len(combinations_list[0])\n",
    "    if variables == 2:\n",
    "        print(\"A B f\")\n",
    "        for A, B in combinations_list:\n",
    "            evaluated_expression = eval(expression)\n",
    "            print(A, B, evaluated_expression)\n",
    "    elif variables == 3:\n",
    "        print(\"A B C f\")\n",
    "        for A, B, C in combinations_list:\n",
    "            evaluated_expression = eval(expression)\n",
    "            print(A, B, C, evaluated_expression)\n",
    "\n",
    "evaluate_propositional_logic(generate_truthtable(2))"
   ]
  },
  {
   "cell_type": "markdown",
   "id": "5a40306f-873e-483f-a323-3a2d5c7e7822",
   "metadata": {},
   "source": []
  }
 ],
 "metadata": {
  "kernelspec": {
   "display_name": "Python 3 (ipykernel)",
   "language": "python",
   "name": "python3"
  },
  "language_info": {
   "codemirror_mode": {
    "name": "ipython",
    "version": 3
   },
   "file_extension": ".py",
   "mimetype": "text/x-python",
   "name": "python",
   "nbconvert_exporter": "python",
   "pygments_lexer": "ipython3",
   "version": "3.12.4"
  }
 },
 "nbformat": 4,
 "nbformat_minor": 5
}
