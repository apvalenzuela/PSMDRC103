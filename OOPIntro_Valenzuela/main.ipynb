{
 "cells": [
  {
   "cell_type": "code",
   "execution_count": 90,
   "id": "20c789bc-ca12-451e-9003-68b82cbeed30",
   "metadata": {},
   "outputs": [
    {
     "name": "stdout",
     "output_type": "stream",
     "text": [
      "Account 1\n",
      "Royce\n",
      "Chua\n",
      "1000\n",
      "Silver Street Quezon City\n",
      "roycechua123@gmail.com\n",
      "\n",
      "Account 2\n",
      "John\n",
      "Doe\n",
      "2000\n",
      "Gold Street Quezon City\n",
      "johndoe@yahoo.com\n",
      "\n",
      "1500\n",
      "2300\n",
      "Serial Number:  54321\n"
     ]
    }
   ],
   "source": [
    "import Accounts\n",
    "import ATM\n",
    "\n",
    "Account1 = Accounts.Accounts(account_number=123456, account_firstname=\"Royce\", account_lastname=\"Chua\",\n",
    "                             current_balance=1000, address=\"Silver Street Quezon City\", email=\"roycechua123@gmail.com\")\n",
    "\n",
    "print(\"Account 1\")\n",
    "print(Account1.account_firstname)\n",
    "print(Account1.account_lastname)\n",
    "print(Account1.current_balance)\n",
    "print(Account1.address)\n",
    "print(Account1.email)\n",
    "\n",
    "print()\n",
    "\n",
    "Account2 = Accounts.Accounts(account_number=654321,account_firstname=\"John\",account_lastname=\"Doe\",\n",
    "                             current_balance=2000, address=\"Gold Street Quezon City\", email=\"johndoe@yahoo.com\")\n",
    "\n",
    "print(\"Account 2\")\n",
    "print(Account2.account_firstname)\n",
    "print(Account2.account_lastname)\n",
    "print(Account2.current_balance)\n",
    "print(Account2.address)\n",
    "print(Account2.email)\n",
    "\n",
    "print()\n",
    "\n",
    "ATM1 = ATM.ATM(2)\n",
    "ATM1.serial_number = 54321\n",
    "\n",
    "ATM1.deposit(Account1, 500)\n",
    "ATM1.check_currentbalance(Account1)\n",
    "\n",
    "ATM1.deposit(Account2, 300)\n",
    "ATM1.check_currentbalance(Account2)\n",
    "\n",
    "print(\"Serial Number: \", ATM1.serial_number)\n",
    "\n"
   ]
  },
  {
   "cell_type": "code",
   "execution_count": null,
   "id": "6b4b27b0-08fb-449f-b8a4-788ad5de9210",
   "metadata": {},
   "outputs": [],
   "source": []
  },
  {
   "cell_type": "code",
   "execution_count": null,
   "id": "530bb3b5-2c9d-4e2e-a5df-415c38d2b48b",
   "metadata": {},
   "outputs": [],
   "source": []
  }
 ],
 "metadata": {
  "kernelspec": {
   "display_name": "Python 3 (ipykernel)",
   "language": "python",
   "name": "python3"
  },
  "language_info": {
   "codemirror_mode": {
    "name": "ipython",
    "version": 3
   },
   "file_extension": ".py",
   "mimetype": "text/x-python",
   "name": "python",
   "nbconvert_exporter": "python",
   "pygments_lexer": "ipython3",
   "version": "3.12.4"
  }
 },
 "nbformat": 4,
 "nbformat_minor": 5
}
