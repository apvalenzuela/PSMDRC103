{
 "cells": [
  {
   "cell_type": "markdown",
   "id": "63352b52-4f0b-475c-93d2-a04fc9e5d080",
   "metadata": {},
   "source": [
    "### 1.1 Practice Set 2, Indexing and Slicing using Python\n",
    "#### By Arlene Valenzuela"
   ]
  },
  {
   "cell_type": "markdown",
   "id": "e1a31e66-add2-40cb-8829-dc53f528ee48",
   "metadata": {
    "jp-MarkdownHeadingCollapsed": true
   },
   "source": [
    "##### Task 1:"
   ]
  },
  {
   "cell_type": "code",
   "execution_count": null,
   "id": "dd35d1ab-d0e9-4f80-8866-736b991625d1",
   "metadata": {},
   "outputs": [],
   "source": [
    "2 ** 16  #This calculates 2 raise to 16th power\n",
    "\n",
    "2 / 5, 2 / 5.0 #This calculate the qoutient of 2 when divided by 5(an integer) and 5.0(a floating number)\n",
    "\n",
    "\"spam\" + \"eggs\" # This concatinates or combine \"spam\" and \"eggs\" into a single string\n",
    "\n",
    "S = \"ham\" #The variable 'S' is assigned to be the \"ham\"\n",
    "\n",
    "\"eggs \" + S #This concatinates string \"eggs\" and the variable S\n",
    "\n",
    "S*5 #This repeats the string in the variable 'S' 5 times\n",
    "\n",
    "S[:0] #This displays the character in a string but this case returns an empty string\n",
    "\n",
    "\"green %s and %s\" % (\"eggs\", S) #This is a string formatting syntax. %s is the placeholder for a\n",
    "                                #sting value and in this case it is \"eggs\" and \"S=ham\".\n",
    "                                #This returns the string 'green eggs and ham'."
   ]
  },
  {
   "cell_type": "code",
   "execution_count": null,
   "id": "09bfee6c-6d3d-4f9d-a468-037003d5639c",
   "metadata": {},
   "outputs": [],
   "source": [
    "('x',) [0] #This creates tuple with the element 'x' (a string).\n",
    "            #[0] returns the first element of the tuple which is 'x'.\n",
    "\n",
    "('x', 'y') [1] #This creates tuple with the element 'x' and 'y' (both are strings).\n",
    "            #[1] returns the second element of the tuple which is 'y'."
   ]
  },
  {
   "cell_type": "code",
   "execution_count": null,
   "id": "102aa4a0-1650-40a2-b649-c8d9fab875e6",
   "metadata": {},
   "outputs": [],
   "source": [
    "L = [1,2,3] + [4,5,6] \n",
    "#This concatenates two lists [1,2,3] and [4,5,6]. It results to a new list L = [1,2,3,4,5,6]\n",
    "\n",
    "L, L[:], L[:0], L[-2], L[-2:] \n",
    "'''\n",
    "This are the ways of slicing the list 'L'\n",
    "L : returns the entire list\n",
    "L[:] : creates a copy of the list\n",
    "L[:0] : returns an empty list\n",
    "L[-2] : returns the second last element of the list which is '5'\n",
    "L[-2:] : returns the last two elements of the list which are '5 and 6'\n",
    "'''\n",
    "\n",
    "([1,2,3] + [4,5,6]) [2:4] \n",
    "'''\n",
    "This concatenates two lists then slices the resulting list. \n",
    "[2:4] returns the elements at index 2 and 3, which is '3 and 4'\n",
    "'''\n",
    "\n",
    "[L[2], L[3]] \n",
    "'''\n",
    "This creates a new list by selecting the elements at index 2 and 3 of the list 'L'.\n",
    "In particular, [3,4]\n",
    "'''\n",
    "\n",
    "L.reverse(); L\n",
    "'''\n",
    "This reverses the elements of the list 'L' abd then returns the reversed list. [6,5,4,3,2,1]\n",
    "'''\n",
    "\n",
    "L.sort(); L\n",
    "'''\n",
    "This sorts the elements of the list 'L' in ascending order and then returns the sorted list: [1,2,3,4,5,6]\n",
    "'''\n",
    "\n",
    "L.index(4){'a':1, 'b':2} ['b']\n",
    "'''\n",
    "This is an invalid syntax. This must be\n",
    "L.index(4) : This finds the index of the element '4' in the list 'L' and returns '3'.\n",
    " {'a':1, 'b':2} ['b'] : This defines a dictionary and accesses the value associated with the key 'b' which is '2'.\n",
    "'''"
   ]
  },
  {
   "cell_type": "code",
   "execution_count": null,
   "id": "b33e5b5c-4d95-4064-825f-ff0e2f10f85c",
   "metadata": {},
   "outputs": [],
   "source": [
    "D = {'x':1, 'y':2, 'z':3} \n",
    "\"\"\"\n",
    "This creates a dictionary and assigned it to the variable 'D'.\n",
    "x, y and z was assigned to be 1, 2 and 3 respectively.\n",
    "\"\"\"\n",
    "\n",
    "D['w'] = 0\n",
    "\"\"\"\n",
    "This adds a pair to the dictionary 'D'.\n",
    "'w' was assigned to be 0. \n",
    "\"\"\"\n",
    "\n",
    "D['x'] + D['w']\n",
    "\"\"\"\n",
    "This accessed the values of the keys x and w then combines it. \n",
    "This results to 1 + 0 = 1\n",
    "\"\"\"\n",
    "\n",
    "\n",
    "D[(1,2,3)] = 4\n",
    "\"\"\"\n",
    "This adds a pair to the dictionary 'D'.\n",
    "The key (1,2,3) was assigned the value '4'.\n",
    "\"\"\"\n",
    "\n",
    "D.keys(), D.values(), D.has_keys((1,2,3)) [[]], [\"\", [], {}, None]\n",
    "'''\n",
    "This are the ways of manipulating the list and dictionary operations\n",
    "D.keys() returns all the keys of the dictionary 'D' which is ['x', 'y', 'z', 'w',(1,2,3)]\n",
    "D.values() returns all the values of the dictionary 'D' which is [1, 2, 3, 0, 4]\n",
    "D.has_key((1,2,3)) checks of the key (1,2,3) exists in the dictionary 'D'.\n",
    "[[]] returns an empty list\n",
    "[\"\", [], {}, None] returns an empty string, an empty list, an empty dictionary and None\n",
    "'''"
   ]
  },
  {
   "cell_type": "markdown",
   "id": "a0ec0579-56ca-4d73-8b62-e2d54bac653a",
   "metadata": {
    "jp-MarkdownHeadingCollapsed": true
   },
   "source": [
    "##### Task 2:"
   ]
  },
  {
   "cell_type": "code",
   "execution_count": 78,
   "id": "5f04879a-8251-46cf-94a8-23f311849810",
   "metadata": {},
   "outputs": [
    {
     "data": {
      "text/plain": [
       "['Mathematics', 'Science', 'Filipino', 'English']"
      ]
     },
     "execution_count": 78,
     "metadata": {},
     "output_type": "execute_result"
    }
   ],
   "source": [
    "L = ['Mathematics', 'Science', 'Filipino', 'English']\n",
    "'''\n",
    "L[565] #If we index out of bound it will result to an error since there is no 565th element of the list 'L'\n",
    "\n",
    "If we try to slice 'L'\n",
    "L[-9999:100] #This slices the list L from index -9999 up to  index 100. \n",
    "Since these indices are out of bounds, Python will treat them as the beginning and end of the list, respectively.\n",
    "if we try:\n",
    "L[456:4556]  #t his will result to an empty slice since we are trying to a slice of the list L \n",
    "starting from index 456 and ending before index 4556. Note that this indices are much beyond the bounds.\n",
    "'''\n",
    "\n",
    "L.reverse() #This will extract the reverse of L. We can also use : L[::-1], this is an example of slicing with -1 steps\n",
    "''''\n",
    "However, if we attept to perform L[3:1] this will return the value [], since the start index is greater than the end index.\n",
    "\n",
    "'''                                                                                              "
   ]
  },
  {
   "cell_type": "markdown",
   "id": "c3059a2b-daaa-44bc-a3c2-b2e0b5269b9d",
   "metadata": {
    "jp-MarkdownHeadingCollapsed": true
   },
   "source": [
    "##### Task 3:"
   ]
  },
  {
   "cell_type": "code",
   "execution_count": 126,
   "id": "d0b2e5d9-5ca7-4dab-aeba-7a9169421476",
   "metadata": {},
   "outputs": [
    {
     "data": {
      "text/plain": [
       "[2, 8]"
      ]
     },
     "execution_count": 126,
     "metadata": {},
     "output_type": "execute_result"
    }
   ],
   "source": [
    "L = [2,4,6,8,10]\n",
    "\n",
    "L[4] = [12,14,16] # This assigns the element at index 4 with [12,14,16]. Thus, the list will become L=[2,4,6,8,[12,14,16]].\n",
    "\n",
    "L[1:3] = [] #This assigns an empty list to a range. This resulting to the 2nd and 3rd elements to be empty.\n",
    "            #the list will become L=[2, 8, [12, 14, 16]]\n",
    "\n",
    "del L[2] # This deletes the element that is indexed at 2 which is '[12,14,16]'\n",
    "           # L now becommes [2,8]\n",
    "\n",
    "del L[0:] # This deletes the whole list starting from index '0'\n",
    "\n",
    "\"\"\"Note that we cannot asign a non-sequence value to a slice since slices in Python are designed to work with sequences (like lists or tuples). \n",
    "When you assign a value to a slice, Python expects an iterable object that it can use to replace the elements in that slice.\n",
    "\"\"\""
   ]
  },
  {
   "cell_type": "markdown",
   "id": "092d11ad-d038-4841-a82e-79939459b789",
   "metadata": {
    "jp-MarkdownHeadingCollapsed": true
   },
   "source": [
    "##### Task 4:"
   ]
  },
  {
   "cell_type": "code",
   "execution_count": null,
   "id": "8a966ae5-f224-4f23-b442-24b855b2ce6d",
   "metadata": {},
   "outputs": [],
   "source": [
    "D = {'a' : 'I', 'b' : 'LOVE', 'c' : 'YOU'}\n",
    "\n",
    "\"\"\"\n",
    "If we try to index a nonexistent key d, i.e D['d'] , this will results to an error.\n",
    "This means the key that we are accessing does not exists in the dictionary 'D'.\n",
    "\n",
    "If we try to assign a nonexistent key d, Python simply create a new elements (key-value pair) on the dictionary.\n",
    "If we let D['d'] = 'TOO', we now have D = {'a' : 'I', 'b' : 'LOVE', 'c' : 'YOU', 'd' : 'TOO'}\n",
    "\n",
    "When assigning nonexistent key in the dictionary, this adds a new entry.\n",
    "However, if we assigns out-of-bounds indices to a list, this results to  an error.\n",
    "\"\"\"\n"
   ]
  },
  {
   "cell_type": "markdown",
   "id": "69f1623e-789e-45ba-a138-af9839e3bbb9",
   "metadata": {
    "jp-MarkdownHeadingCollapsed": true
   },
   "source": [
    "##### Task 5:"
   ]
  },
  {
   "cell_type": "markdown",
   "id": "ab80aa2c-96b8-4e68-b881-a79824ddedd4",
   "metadata": {},
   "source": [
    "###### What happens when you try to use the + operator on different/mixed types?"
   ]
  },
  {
   "cell_type": "code",
   "execution_count": 1,
   "id": "fee583ae-6019-4861-8ad3-3783f839efc3",
   "metadata": {},
   "outputs": [
    {
     "data": {
      "text/plain": [
       "3"
      ]
     },
     "execution_count": 1,
     "metadata": {},
     "output_type": "execute_result"
    }
   ],
   "source": [
    "a = 1\n",
    "b = 2\n",
    "a+b #'+' adds the two integer"
   ]
  },
  {
   "cell_type": "code",
   "execution_count": 7,
   "id": "9938a0af-e742-499e-b3d5-a60e3aaf8014",
   "metadata": {},
   "outputs": [
    {
     "data": {
      "text/plain": [
       "'bookworm'"
      ]
     },
     "execution_count": 7,
     "metadata": {},
     "output_type": "execute_result"
    }
   ],
   "source": [
    "a = 'book'\n",
    "b = 'worm'\n",
    "a + b #'+' concatenates the two strings"
   ]
  },
  {
   "cell_type": "code",
   "execution_count": 9,
   "id": "faefc243-6ded-4b7a-856b-4b908cb1f367",
   "metadata": {},
   "outputs": [
    {
     "data": {
      "text/plain": [
       "[1, 3, 5, 2, 4, 6]"
      ]
     },
     "execution_count": 9,
     "metadata": {},
     "output_type": "execute_result"
    }
   ],
   "source": [
    "a = [1,3,5]\n",
    "b = [2, 4, 6]\n",
    "a + b #'+' concatenates the two list"
   ]
  },
  {
   "cell_type": "markdown",
   "id": "4573aa66-1eac-4ec9-8ae6-0ff1d0a951d7",
   "metadata": {},
   "source": [
    "However, if we try to use + on different types, this can result to an error.\n",
    "For example:"
   ]
  },
  {
   "cell_type": "code",
   "execution_count": 11,
   "id": "43e1a29c-bdbf-4af5-b37a-3bba99c0812f",
   "metadata": {},
   "outputs": [
    {
     "ename": "TypeError",
     "evalue": "can only concatenate str (not \"int\") to str",
     "output_type": "error",
     "traceback": [
      "\u001b[1;31m---------------------------------------------------------------------------\u001b[0m",
      "\u001b[1;31mTypeError\u001b[0m                                 Traceback (most recent call last)",
      "Cell \u001b[1;32mIn[11], line 3\u001b[0m\n\u001b[0;32m      1\u001b[0m a \u001b[38;5;241m=\u001b[39m \u001b[38;5;124m'\u001b[39m\u001b[38;5;124mbook\u001b[39m\u001b[38;5;124m'\u001b[39m\n\u001b[0;32m      2\u001b[0m b \u001b[38;5;241m=\u001b[39m \u001b[38;5;241m6\u001b[39m\n\u001b[1;32m----> 3\u001b[0m a \u001b[38;5;241m+\u001b[39m b\n",
      "\u001b[1;31mTypeError\u001b[0m: can only concatenate str (not \"int\") to str"
     ]
    }
   ],
   "source": [
    "a = 'book'\n",
    "b = 6\n",
    "a + b"
   ]
  },
  {
   "cell_type": "code",
   "execution_count": 13,
   "id": "bc0a07f6-7047-42be-8f95-aa8083c7efb7",
   "metadata": {},
   "outputs": [
    {
     "ename": "TypeError",
     "evalue": "can only concatenate str (not \"list\") to str",
     "output_type": "error",
     "traceback": [
      "\u001b[1;31m---------------------------------------------------------------------------\u001b[0m",
      "\u001b[1;31mTypeError\u001b[0m                                 Traceback (most recent call last)",
      "Cell \u001b[1;32mIn[13], line 3\u001b[0m\n\u001b[0;32m      1\u001b[0m a \u001b[38;5;241m=\u001b[39m \u001b[38;5;124m'\u001b[39m\u001b[38;5;124mlove\u001b[39m\u001b[38;5;124m'\u001b[39m\n\u001b[0;32m      2\u001b[0m b \u001b[38;5;241m=\u001b[39m [\u001b[38;5;241m1\u001b[39m, \u001b[38;5;241m4\u001b[39m, \u001b[38;5;241m3\u001b[39m]\n\u001b[1;32m----> 3\u001b[0m a \u001b[38;5;241m+\u001b[39m b\n",
      "\u001b[1;31mTypeError\u001b[0m: can only concatenate str (not \"list\") to str"
     ]
    }
   ],
   "source": [
    "a = 'love'\n",
    "b = [1, 4, 3]\n",
    "a + b"
   ]
  },
  {
   "cell_type": "code",
   "execution_count": 15,
   "id": "1569fc21-ff18-491a-b018-80b58f7c98b6",
   "metadata": {},
   "outputs": [
    {
     "ename": "TypeError",
     "evalue": "unsupported operand type(s) for +: 'int' and 'list'",
     "output_type": "error",
     "traceback": [
      "\u001b[1;31m---------------------------------------------------------------------------\u001b[0m",
      "\u001b[1;31mTypeError\u001b[0m                                 Traceback (most recent call last)",
      "Cell \u001b[1;32mIn[15], line 3\u001b[0m\n\u001b[0;32m      1\u001b[0m a \u001b[38;5;241m=\u001b[39m \u001b[38;5;241m1\u001b[39m\n\u001b[0;32m      2\u001b[0m b \u001b[38;5;241m=\u001b[39m [\u001b[38;5;241m1\u001b[39m, \u001b[38;5;241m4\u001b[39m, \u001b[38;5;241m3\u001b[39m]\n\u001b[1;32m----> 3\u001b[0m a \u001b[38;5;241m+\u001b[39m b\n",
      "\u001b[1;31mTypeError\u001b[0m: unsupported operand type(s) for +: 'int' and 'list'"
     ]
    }
   ],
   "source": [
    "a = 1\n",
    "b = [1, 4, 3]\n",
    "a + b"
   ]
  },
  {
   "cell_type": "markdown",
   "id": "e798d6b7-afee-4c39-996d-a7f20236b411",
   "metadata": {},
   "source": [
    "###### Does + work if one of the operands is a dictionary?"
   ]
  },
  {
   "cell_type": "code",
   "execution_count": 25,
   "id": "00fc1a26-66e4-4dcb-9a46-f08903a70873",
   "metadata": {},
   "outputs": [
    {
     "ename": "TypeError",
     "evalue": "unsupported operand type(s) for +: 'dict' and 'int'",
     "output_type": "error",
     "traceback": [
      "\u001b[1;31m---------------------------------------------------------------------------\u001b[0m",
      "\u001b[1;31mTypeError\u001b[0m                                 Traceback (most recent call last)",
      "Cell \u001b[1;32mIn[25], line 3\u001b[0m\n\u001b[0;32m      1\u001b[0m D \u001b[38;5;241m=\u001b[39m {\u001b[38;5;124m'\u001b[39m\u001b[38;5;124ma\u001b[39m\u001b[38;5;124m'\u001b[39m : \u001b[38;5;124m'\u001b[39m\u001b[38;5;124mI\u001b[39m\u001b[38;5;124m'\u001b[39m, \u001b[38;5;124m'\u001b[39m\u001b[38;5;124mb\u001b[39m\u001b[38;5;124m'\u001b[39m : \u001b[38;5;124m'\u001b[39m\u001b[38;5;124mLOVE\u001b[39m\u001b[38;5;124m'\u001b[39m, \u001b[38;5;124m'\u001b[39m\u001b[38;5;124mc\u001b[39m\u001b[38;5;124m'\u001b[39m : \u001b[38;5;124m'\u001b[39m\u001b[38;5;124mYOU\u001b[39m\u001b[38;5;124m'\u001b[39m}\n\u001b[0;32m      2\u001b[0m E \u001b[38;5;241m=\u001b[39m \u001b[38;5;241m143\u001b[39m\n\u001b[1;32m----> 3\u001b[0m D \u001b[38;5;241m+\u001b[39m E\n",
      "\u001b[1;31mTypeError\u001b[0m: unsupported operand type(s) for +: 'dict' and 'int'"
     ]
    }
   ],
   "source": [
    "D = {'a' : 'I', 'b' : 'LOVE', 'c' : 'YOU'}\n",
    "E = 143\n",
    "D + E"
   ]
  },
  {
   "cell_type": "markdown",
   "id": "4a9deb3b-22ac-4354-8a48-f0b9d78f1d3a",
   "metadata": {},
   "source": [
    "No, + does not work. Note that '+' retuns an  error if one of the operands is a dictionary. We can only add an element on the dictionary by doing D['e'] = 143"
   ]
  },
  {
   "cell_type": "code",
   "execution_count": 29,
   "id": "aa2c5002-b0fa-466e-a378-b1993c6e8b64",
   "metadata": {},
   "outputs": [
    {
     "data": {
      "text/plain": [
       "{'a': 'I', 'b': 'LOVE', 'c': 'YOU', 'e': 143}"
      ]
     },
     "execution_count": 29,
     "metadata": {},
     "output_type": "execute_result"
    }
   ],
   "source": [
    "# For example\n",
    "D = {'a' : 'I', 'b' : 'LOVE', 'c' : 'YOU'}\n",
    "D['e'] = 143\n",
    "D"
   ]
  },
  {
   "cell_type": "markdown",
   "id": "26afaaac-bd8b-48c3-b01a-3298b74153fe",
   "metadata": {},
   "source": [
    "###### Try list.append() (use an actual list you created). Does the append() method work for both lists and strings?"
   ]
  },
  {
   "cell_type": "code",
   "execution_count": 47,
   "id": "4d8bf413-99e5-41f9-bbbd-3e14ea6dac1d",
   "metadata": {},
   "outputs": [
    {
     "data": {
      "text/plain": [
       "[2, 4, 6, 8, 10, 12]"
      ]
     },
     "execution_count": 47,
     "metadata": {},
     "output_type": "execute_result"
    }
   ],
   "source": [
    "L = [2,4,6,8,10]\n",
    "L.append(12)\n",
    "L #append() works on list"
   ]
  },
  {
   "cell_type": "code",
   "execution_count": 49,
   "id": "e96866fc-c146-41e6-a641-ec7bb3ca28e9",
   "metadata": {},
   "outputs": [
    {
     "ename": "AttributeError",
     "evalue": "'str' object has no attribute 'append'",
     "output_type": "error",
     "traceback": [
      "\u001b[1;31m---------------------------------------------------------------------------\u001b[0m",
      "\u001b[1;31mAttributeError\u001b[0m                            Traceback (most recent call last)",
      "Cell \u001b[1;32mIn[49], line 2\u001b[0m\n\u001b[0;32m      1\u001b[0m a \u001b[38;5;241m=\u001b[39m \u001b[38;5;124m'\u001b[39m\u001b[38;5;124mdog\u001b[39m\u001b[38;5;124m'\u001b[39m\n\u001b[1;32m----> 2\u001b[0m a\u001b[38;5;241m.\u001b[39mappend(s)\n",
      "\u001b[1;31mAttributeError\u001b[0m: 'str' object has no attribute 'append'"
     ]
    }
   ],
   "source": [
    "a = 'dog'\n",
    "a.append(s)\n",
    "''''append() doest work on strings since stinf is an immutable sequences. \n",
    "Thus, strings cannot be modified after creating it.\n",
    "'''"
   ]
  },
  {
   "cell_type": "markdown",
   "id": "b8c5ccee-d2c2-4dc8-848f-77e71ed2e141",
   "metadata": {
    "jp-MarkdownHeadingCollapsed": true
   },
   "source": [
    "###### Try concatenating (+) two lists or strings, what happens?"
   ]
  },
  {
   "cell_type": "code",
   "execution_count": 54,
   "id": "4b064072-5bea-4372-9dd9-f5bd1735f6ee",
   "metadata": {},
   "outputs": [
    {
     "data": {
      "text/plain": [
       "'airplane'"
      ]
     },
     "execution_count": 54,
     "metadata": {},
     "output_type": "execute_result"
    }
   ],
   "source": [
    "# '+' on two strings\n",
    "'air'+ 'plane'\n",
    "# concatenating two strings will result to a new string"
   ]
  },
  {
   "cell_type": "code",
   "execution_count": 56,
   "id": "99fc19ed-f8fb-4365-81eb-6fadf73b6a8d",
   "metadata": {},
   "outputs": [
    {
     "data": {
      "text/plain": [
       "[1, 2, 3, 10, 9, 8]"
      ]
     },
     "execution_count": 56,
     "metadata": {},
     "output_type": "execute_result"
    }
   ],
   "source": [
    "# '+' on two list\n",
    "[1,2,3] + [10,9,8]\n",
    "# concatenating two lists will result to a new list"
   ]
  },
  {
   "cell_type": "markdown",
   "id": "8bc843c1-f6e7-4ecc-a8b8-946735afae4f",
   "metadata": {
    "jp-MarkdownHeadingCollapsed": true
   },
   "source": [
    "##### Task 6:"
   ]
  },
  {
   "cell_type": "markdown",
   "id": "dc7b7b6d-bfd6-4360-b39c-71b33ebcc813",
   "metadata": {},
   "source": [
    "Define a string S of four characters. Then type the following expression: S[0] [0] [0] [0]. Explain what is happening."
   ]
  },
  {
   "cell_type": "code",
   "execution_count": 62,
   "id": "083586b6-c29d-4245-b3bb-265bfb3ab255",
   "metadata": {},
   "outputs": [
    {
     "data": {
      "text/plain": [
       "'t'"
      ]
     },
     "execution_count": 62,
     "metadata": {},
     "output_type": "execute_result"
    }
   ],
   "source": [
    "S = 'time'\n",
    "S[0][0][0][0] #This access the first character of the string 'S'\n",
    "'''\n",
    "S[0] returns the first character of the string 'S' which is 't'.\n",
    "The suceeding [0]'s are invalid since 't' is a character and does not support indexing at [0].\n",
    "'''"
   ]
  },
  {
   "cell_type": "markdown",
   "id": "69722bb3-b168-4958-ac04-5973656bf1fe",
   "metadata": {},
   "source": [
    "##### Task 7:"
   ]
  },
  {
   "cell_type": "markdown",
   "id": "2d5c0136-a682-43d0-9110-697e67341990",
   "metadata": {},
   "source": [
    "Define a string S of 4 characters again: S = “spam”. Write an assignment that changes the string to “slam”, using only slicing and concatenation. Does it work? Try index assignment."
   ]
  },
  {
   "cell_type": "code",
   "execution_count": 73,
   "id": "1ae0b966-0f55-464a-a03a-b1e56979e7fa",
   "metadata": {},
   "outputs": [
    {
     "data": {
      "text/plain": [
       "'slam'"
      ]
     },
     "execution_count": 73,
     "metadata": {},
     "output_type": "execute_result"
    }
   ],
   "source": [
    "S = 'spam'\n",
    "S = 'sl' + S[2:]\n",
    "S \n",
    "'''\n",
    "This works since we concatinate 'sl' with the result when slicing S. \n",
    "By doing, S[2:], the return value will be 'am'\n",
    "And combining 'sl' to 'am', will return 'slam'.\n",
    "'''"
   ]
  },
  {
   "cell_type": "code",
   "execution_count": 77,
   "id": "da08fe8b-6f91-4bde-a66b-b56665c3ee11",
   "metadata": {},
   "outputs": [
    {
     "ename": "TypeError",
     "evalue": "'str' object does not support item assignment",
     "output_type": "error",
     "traceback": [
      "\u001b[1;31m---------------------------------------------------------------------------\u001b[0m",
      "\u001b[1;31mTypeError\u001b[0m                                 Traceback (most recent call last)",
      "Cell \u001b[1;32mIn[77], line 2\u001b[0m\n\u001b[0;32m      1\u001b[0m S \u001b[38;5;241m=\u001b[39m \u001b[38;5;124m'\u001b[39m\u001b[38;5;124mspam\u001b[39m\u001b[38;5;124m'\u001b[39m\n\u001b[1;32m----> 2\u001b[0m S[\u001b[38;5;241m1\u001b[39m] \u001b[38;5;241m=\u001b[39m \u001b[38;5;124m'\u001b[39m\u001b[38;5;124ml\u001b[39m\u001b[38;5;124m'\u001b[39m\n",
      "\u001b[1;31mTypeError\u001b[0m: 'str' object does not support item assignment"
     ]
    }
   ],
   "source": [
    "S = 'spam'\n",
    "S[1] = 'l'\n",
    "'''\n",
    "We cannot modify strings by index assignment since once a string is defined, the elements cannot be changed.\n",
    "We can only modify by slicing and concatenating.\n",
    "'''"
   ]
  },
  {
   "cell_type": "markdown",
   "id": "fc89bc7e-cba5-4e6a-8619-579987a964cd",
   "metadata": {},
   "source": [
    "## END"
   ]
  }
 ],
 "metadata": {
  "kernelspec": {
   "display_name": "Python 3 (ipykernel)",
   "language": "python",
   "name": "python3"
  },
  "language_info": {
   "codemirror_mode": {
    "name": "ipython",
    "version": 3
   },
   "file_extension": ".py",
   "mimetype": "text/x-python",
   "name": "python",
   "nbconvert_exporter": "python",
   "pygments_lexer": "ipython3",
   "version": "3.12.4"
  }
 },
 "nbformat": 4,
 "nbformat_minor": 5
}
