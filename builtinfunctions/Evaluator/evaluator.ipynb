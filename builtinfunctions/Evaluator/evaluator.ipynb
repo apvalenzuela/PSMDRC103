{
 "cells": [
  {
   "cell_type": "code",
   "execution_count": 14,
   "id": "719dc12f-a031-49d2-a1e6-c00c3a635865",
   "metadata": {
    "editable": true,
    "slideshow": {
     "slide_type": ""
    },
    "tags": []
   },
   "outputs": [
    {
     "name": "stdout",
     "output_type": "stream",
     "text": [
      "Propositional Logic Evaluator for Discrete Math\n"
     ]
    },
    {
     "name": "stdin",
     "output_type": "stream",
     "text": [
      "How many variables? 3\n",
      "Enter the propositional logic expression:  not A or (C and B)\n"
     ]
    },
    {
     "name": "stdout",
     "output_type": "stream",
     "text": [
      "A B C f\n",
      "0 0 0 True\n",
      "0 0 1 True\n",
      "0 1 0 True\n",
      "0 1 1 True\n",
      "1 0 0 0\n",
      "1 0 1 0\n",
      "1 1 0 0\n",
      "1 1 1 1\n"
     ]
    }
   ],
   "source": [
    "# Propositional Logic for discrete math for 2-3 variables\n",
    "print(\"Propositional Logic Evaluator for Discrete Math\")\n",
    "variables = int(input(\"How many variables?\"))\n",
    "total_combinations = 2 ** variables\n",
    "\n",
    "combinations_list = []\n",
    "\n",
    "# Generate the combinations\n",
    "for i in range(total_combinations):\n",
    "    bin_equivalent = bin(i) [2:]\n",
    "    while len(bin_equivalent) <variables:\n",
    "        bin_equivalent = \"0\"+bin_equivalent\n",
    "    combinations_list.append(tuple (int(val) for val in bin_equivalent))\n",
    "# This will generate a List with values [(0,0), (0,1), (1,0), (1,1)]\n",
    "# For two variables\n",
    "\n",
    "# Main Program\n",
    "expression = input(\"Enter the propositional logic expression: \")\n",
    "\n",
    "\"\"\"Note:\n",
    "    Only the letters A, B, and C are allowed to be used.\n",
    "    A sample input would be not (A and B) or (A and C).\n",
    "    All input must be small cases.\"\"\"\n",
    "\n",
    "if variables == 2:\n",
    "    print(\"A B f\")\n",
    "    for A, B in combinations_list:\n",
    "        evaluated_expression = eval (expression)\n",
    "        print(A, B, evaluated_expression)\n",
    "        \n",
    "elif variables == 3:\n",
    "    print(\"A B C f\")\n",
    "    for A, B, C in combinations_list:\n",
    "        evaluated_expression = eval (expression)\n",
    "        print(A, B, C, evaluated_expression)"
   ]
  },
  {
   "cell_type": "code",
   "execution_count": null,
   "id": "7fda6d39-583b-4ca4-8cc1-aaeb51e0cc78",
   "metadata": {},
   "outputs": [],
   "source": []
  }
 ],
 "metadata": {
  "kernelspec": {
   "display_name": "Python 3 (ipykernel)",
   "language": "python",
   "name": "python3"
  },
  "language_info": {
   "codemirror_mode": {
    "name": "ipython",
    "version": 3
   },
   "file_extension": ".py",
   "mimetype": "text/x-python",
   "name": "python",
   "nbconvert_exporter": "python",
   "pygments_lexer": "ipython3",
   "version": "3.12.4"
  }
 },
 "nbformat": 4,
 "nbformat_minor": 5
}
