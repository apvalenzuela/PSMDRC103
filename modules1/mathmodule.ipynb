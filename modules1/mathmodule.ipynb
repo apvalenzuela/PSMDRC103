{
 "cells": [
  {
   "cell_type": "code",
   "execution_count": 6,
   "id": "23ffaee3-219b-451f-bf18-3d5ab2807bbb",
   "metadata": {},
   "outputs": [],
   "source": [
    "import math\n",
    "\n",
    "def quadratic_formula(a, b, c):\n",
    "    if b**2 - (4*a*c) < 0:\n",
    "        x1 = (complex(-b, math.floor(math.sqrt(abs(b**2-(4*a*c))))))/2*a \n",
    "        x2 = (complex(-b, -1*math.floor(math.sqrt(abs(b**2-(4*a*c))))))/2*a\n",
    "        return x1, x2\n",
    "    else:\n",
    "        x1 = (-b+math.sqrt(b**2 - (4*a*c)))/(2*a)\n",
    "        x2 = (-b-math.sqrt(b**2 - (4*a*c)))/(2*a) \n",
    "        return x1, x2"
   ]
  },
  {
   "cell_type": "code",
   "execution_count": 12,
   "id": "8bdafd98-8bdc-4e0c-86c7-2244793cdbda",
   "metadata": {},
   "outputs": [
    {
     "name": "stdout",
     "output_type": "stream",
     "text": [
      "((-1+2j), (-1-2j))\n"
     ]
    }
   ],
   "source": [
    "print(quadratic_formula(1,2,5))"
   ]
  },
  {
   "cell_type": "code",
   "execution_count": null,
   "id": "52dd8787-8d13-4179-a462-2d6a10ed1981",
   "metadata": {},
   "outputs": [],
   "source": []
  }
 ],
 "metadata": {
  "kernelspec": {
   "display_name": "Python 3 (ipykernel)",
   "language": "python",
   "name": "python3"
  },
  "language_info": {
   "codemirror_mode": {
    "name": "ipython",
    "version": 3
   },
   "file_extension": ".py",
   "mimetype": "text/x-python",
   "name": "python",
   "nbconvert_exporter": "python",
   "pygments_lexer": "ipython3",
   "version": "3.12.4"
  }
 },
 "nbformat": 4,
 "nbformat_minor": 5
}
